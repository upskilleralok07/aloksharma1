{
  "metadata": {
    "kernelspec": {
      "language": "python",
      "display_name": "Python 3",
      "name": "python3"
    },
    "language_info": {
      "name": "python",
      "version": "3.11.13",
      "mimetype": "text/x-python",
      "codemirror_mode": {
        "name": "ipython",
        "version": 3
      },
      "pygments_lexer": "ipython3",
      "nbconvert_exporter": "python",
      "file_extension": ".py"
    },
    "kaggle": {
      "accelerator": "none",
      "dataSources": [
        {
          "sourceId": 3442322,
          "sourceType": "datasetVersion",
          "datasetId": 2073626
        }
      ],
      "dockerImageVersionId": 31089,
      "isInternetEnabled": false,
      "language": "python",
      "sourceType": "notebook",
      "isGpuEnabled": false
    },
    "colab": {
      "name": "firstmlproject",
      "provenance": [],
      "include_colab_link": true
    }
  },
  "nbformat_minor": 0,
  "nbformat": 4,
  "cells": [
    {
      "cell_type": "markdown",
      "metadata": {
        "id": "view-in-github",
        "colab_type": "text"
      },
      "source": [
        "<a href=\"https://colab.research.google.com/github/upskilleralok07/aloksharma1/blob/main/firstmlproject.ipynb\" target=\"_parent\"><img src=\"https://colab.research.google.com/assets/colab-badge.svg\" alt=\"Open In Colab\"/></a>"
      ]
    },
    {
      "source": [
        "# IMPORTANT: RUN THIS CELL IN ORDER TO IMPORT YOUR KAGGLE DATA SOURCES,\n",
        "# THEN FEEL FREE TO DELETE THIS CELL.\n",
        "# NOTE: THIS NOTEBOOK ENVIRONMENT DIFFERS FROM KAGGLE'S PYTHON\n",
        "# ENVIRONMENT SO THERE MAY BE MISSING LIBRARIES USED BY YOUR\n",
        "# NOTEBOOK.\n",
        "import kagglehub\n",
        "adhurimquku_ford_car_price_prediction_path = kagglehub.dataset_download('adhurimquku/ford-car-price-prediction')\n",
        "\n",
        "print('Data source import complete.')\n"
      ],
      "metadata": {
        "id": "9q5-_EpJ0ocV",
        "outputId": "ef42b23b-ced4-4d0d-d158-3970b743a9e5",
        "colab": {
          "base_uri": "https://localhost:8080/"
        }
      },
      "cell_type": "code",
      "outputs": [
        {
          "output_type": "stream",
          "name": "stdout",
          "text": [
            "Downloading from https://www.kaggle.com/api/v1/datasets/download/adhurimquku/ford-car-price-prediction?dataset_version_number=1...\n"
          ]
        },
        {
          "output_type": "stream",
          "name": "stderr",
          "text": [
            "100%|██████████| 174k/174k [00:00<00:00, 52.7MB/s]"
          ]
        },
        {
          "output_type": "stream",
          "name": "stdout",
          "text": [
            "Extracting files...\n",
            "Data source import complete.\n"
          ]
        },
        {
          "output_type": "stream",
          "name": "stderr",
          "text": [
            "\n"
          ]
        }
      ],
      "execution_count": 1
    },
    {
      "cell_type": "code",
      "source": [
        "# This Python 3 environment comes with many helpful analytics libraries installed\n",
        "# It is defined by the kaggle/python Docker image: https://github.com/kaggle/docker-python\n",
        "# For example, here's several helpful packages to load\n",
        "\n",
        "import numpy as np # linear algebra\n",
        "import pandas as pd # data processing, CSV file I/O (e.g. pd.read_csv)\n",
        "\n",
        "# Input data files are available in the read-only \"../input/\" directory\n",
        "# For example, running this (by clicking run or pressing Shift+Enter) will list all files under the input directory\n",
        "\n",
        "import os\n",
        "for dirname, _, filenames in os.walk('/kaggle/input'):\n",
        "    for filename in filenames:\n",
        "        print(os.path.join(dirname, filename))\n",
        "\n",
        "# You can write up to 20GB to the current directory (/kaggle/working/) that gets preserved as output when you create a version using \"Save & Run All\"\n",
        "# You can also write temporary files to /kaggle/temp/, but they won't be saved outside of the current session"
      ],
      "metadata": {
        "_uuid": "8f2839f25d086af736a60e9eeb907d3b93b6e0e5",
        "_cell_guid": "b1076dfc-b9ad-4769-8c92-a6c4dae69d19",
        "trusted": true,
        "id": "nJrjDW4A0ocW"
      },
      "outputs": [],
      "execution_count": 2
    },
    {
      "cell_type": "code",
      "source": [
        "import numpy as np\n",
        "import pandas as pd\n",
        "import matplotlib.pyplot as plt\n",
        "import seaborn as sns\n",
        "import warnings\n",
        "warnings.filterwarnings(\"ignore\")"
      ],
      "metadata": {
        "trusted": true,
        "id": "P4tjkHOI0ocX"
      },
      "outputs": [],
      "execution_count": 3
    },
    {
      "cell_type": "code",
      "source": [
        "df=pd.read_csv(r\"/kaggle/input/ford-car-price-prediction/ford.csv\")"
      ],
      "metadata": {
        "trusted": true,
        "id": "8HYy1pbb0ocX",
        "outputId": "122c4d13-9478-443a-9c49-b99810be3205",
        "colab": {
          "base_uri": "https://localhost:8080/",
          "height": 287
        }
      },
      "outputs": [
        {
          "output_type": "error",
          "ename": "FileNotFoundError",
          "evalue": "[Errno 2] No such file or directory: '/kaggle/input/ford-car-price-prediction/ford.csv'",
          "traceback": [
            "\u001b[0;31m---------------------------------------------------------------------------\u001b[0m",
            "\u001b[0;31mFileNotFoundError\u001b[0m                         Traceback (most recent call last)",
            "\u001b[0;32m/tmp/ipython-input-6-1440721481.py\u001b[0m in \u001b[0;36m<cell line: 0>\u001b[0;34m()\u001b[0m\n\u001b[0;32m----> 1\u001b[0;31m \u001b[0mdf\u001b[0m\u001b[0;34m=\u001b[0m\u001b[0mpd\u001b[0m\u001b[0;34m.\u001b[0m\u001b[0mread_csv\u001b[0m\u001b[0;34m(\u001b[0m\u001b[0;34mr\"/kaggle/input/ford-car-price-prediction/ford.csv\"\u001b[0m\u001b[0;34m)\u001b[0m\u001b[0;34m\u001b[0m\u001b[0;34m\u001b[0m\u001b[0m\n\u001b[0m",
            "\u001b[0;32m/usr/local/lib/python3.11/dist-packages/pandas/io/parsers/readers.py\u001b[0m in \u001b[0;36mread_csv\u001b[0;34m(filepath_or_buffer, sep, delimiter, header, names, index_col, usecols, dtype, engine, converters, true_values, false_values, skipinitialspace, skiprows, skipfooter, nrows, na_values, keep_default_na, na_filter, verbose, skip_blank_lines, parse_dates, infer_datetime_format, keep_date_col, date_parser, date_format, dayfirst, cache_dates, iterator, chunksize, compression, thousands, decimal, lineterminator, quotechar, quoting, doublequote, escapechar, comment, encoding, encoding_errors, dialect, on_bad_lines, delim_whitespace, low_memory, memory_map, float_precision, storage_options, dtype_backend)\u001b[0m\n\u001b[1;32m   1024\u001b[0m     \u001b[0mkwds\u001b[0m\u001b[0;34m.\u001b[0m\u001b[0mupdate\u001b[0m\u001b[0;34m(\u001b[0m\u001b[0mkwds_defaults\u001b[0m\u001b[0;34m)\u001b[0m\u001b[0;34m\u001b[0m\u001b[0;34m\u001b[0m\u001b[0m\n\u001b[1;32m   1025\u001b[0m \u001b[0;34m\u001b[0m\u001b[0m\n\u001b[0;32m-> 1026\u001b[0;31m     \u001b[0;32mreturn\u001b[0m \u001b[0m_read\u001b[0m\u001b[0;34m(\u001b[0m\u001b[0mfilepath_or_buffer\u001b[0m\u001b[0;34m,\u001b[0m \u001b[0mkwds\u001b[0m\u001b[0;34m)\u001b[0m\u001b[0;34m\u001b[0m\u001b[0;34m\u001b[0m\u001b[0m\n\u001b[0m\u001b[1;32m   1027\u001b[0m \u001b[0;34m\u001b[0m\u001b[0m\n\u001b[1;32m   1028\u001b[0m \u001b[0;34m\u001b[0m\u001b[0m\n",
            "\u001b[0;32m/usr/local/lib/python3.11/dist-packages/pandas/io/parsers/readers.py\u001b[0m in \u001b[0;36m_read\u001b[0;34m(filepath_or_buffer, kwds)\u001b[0m\n\u001b[1;32m    618\u001b[0m \u001b[0;34m\u001b[0m\u001b[0m\n\u001b[1;32m    619\u001b[0m     \u001b[0;31m# Create the parser.\u001b[0m\u001b[0;34m\u001b[0m\u001b[0;34m\u001b[0m\u001b[0m\n\u001b[0;32m--> 620\u001b[0;31m     \u001b[0mparser\u001b[0m \u001b[0;34m=\u001b[0m \u001b[0mTextFileReader\u001b[0m\u001b[0;34m(\u001b[0m\u001b[0mfilepath_or_buffer\u001b[0m\u001b[0;34m,\u001b[0m \u001b[0;34m**\u001b[0m\u001b[0mkwds\u001b[0m\u001b[0;34m)\u001b[0m\u001b[0;34m\u001b[0m\u001b[0;34m\u001b[0m\u001b[0m\n\u001b[0m\u001b[1;32m    621\u001b[0m \u001b[0;34m\u001b[0m\u001b[0m\n\u001b[1;32m    622\u001b[0m     \u001b[0;32mif\u001b[0m \u001b[0mchunksize\u001b[0m \u001b[0;32mor\u001b[0m \u001b[0miterator\u001b[0m\u001b[0;34m:\u001b[0m\u001b[0;34m\u001b[0m\u001b[0;34m\u001b[0m\u001b[0m\n",
            "\u001b[0;32m/usr/local/lib/python3.11/dist-packages/pandas/io/parsers/readers.py\u001b[0m in \u001b[0;36m__init__\u001b[0;34m(self, f, engine, **kwds)\u001b[0m\n\u001b[1;32m   1618\u001b[0m \u001b[0;34m\u001b[0m\u001b[0m\n\u001b[1;32m   1619\u001b[0m         \u001b[0mself\u001b[0m\u001b[0;34m.\u001b[0m\u001b[0mhandles\u001b[0m\u001b[0;34m:\u001b[0m \u001b[0mIOHandles\u001b[0m \u001b[0;34m|\u001b[0m \u001b[0;32mNone\u001b[0m \u001b[0;34m=\u001b[0m \u001b[0;32mNone\u001b[0m\u001b[0;34m\u001b[0m\u001b[0;34m\u001b[0m\u001b[0m\n\u001b[0;32m-> 1620\u001b[0;31m         \u001b[0mself\u001b[0m\u001b[0;34m.\u001b[0m\u001b[0m_engine\u001b[0m \u001b[0;34m=\u001b[0m \u001b[0mself\u001b[0m\u001b[0;34m.\u001b[0m\u001b[0m_make_engine\u001b[0m\u001b[0;34m(\u001b[0m\u001b[0mf\u001b[0m\u001b[0;34m,\u001b[0m \u001b[0mself\u001b[0m\u001b[0;34m.\u001b[0m\u001b[0mengine\u001b[0m\u001b[0;34m)\u001b[0m\u001b[0;34m\u001b[0m\u001b[0;34m\u001b[0m\u001b[0m\n\u001b[0m\u001b[1;32m   1621\u001b[0m \u001b[0;34m\u001b[0m\u001b[0m\n\u001b[1;32m   1622\u001b[0m     \u001b[0;32mdef\u001b[0m \u001b[0mclose\u001b[0m\u001b[0;34m(\u001b[0m\u001b[0mself\u001b[0m\u001b[0;34m)\u001b[0m \u001b[0;34m->\u001b[0m \u001b[0;32mNone\u001b[0m\u001b[0;34m:\u001b[0m\u001b[0;34m\u001b[0m\u001b[0;34m\u001b[0m\u001b[0m\n",
            "\u001b[0;32m/usr/local/lib/python3.11/dist-packages/pandas/io/parsers/readers.py\u001b[0m in \u001b[0;36m_make_engine\u001b[0;34m(self, f, engine)\u001b[0m\n\u001b[1;32m   1878\u001b[0m                 \u001b[0;32mif\u001b[0m \u001b[0;34m\"b\"\u001b[0m \u001b[0;32mnot\u001b[0m \u001b[0;32min\u001b[0m \u001b[0mmode\u001b[0m\u001b[0;34m:\u001b[0m\u001b[0;34m\u001b[0m\u001b[0;34m\u001b[0m\u001b[0m\n\u001b[1;32m   1879\u001b[0m                     \u001b[0mmode\u001b[0m \u001b[0;34m+=\u001b[0m \u001b[0;34m\"b\"\u001b[0m\u001b[0;34m\u001b[0m\u001b[0;34m\u001b[0m\u001b[0m\n\u001b[0;32m-> 1880\u001b[0;31m             self.handles = get_handle(\n\u001b[0m\u001b[1;32m   1881\u001b[0m                 \u001b[0mf\u001b[0m\u001b[0;34m,\u001b[0m\u001b[0;34m\u001b[0m\u001b[0;34m\u001b[0m\u001b[0m\n\u001b[1;32m   1882\u001b[0m                 \u001b[0mmode\u001b[0m\u001b[0;34m,\u001b[0m\u001b[0;34m\u001b[0m\u001b[0;34m\u001b[0m\u001b[0m\n",
            "\u001b[0;32m/usr/local/lib/python3.11/dist-packages/pandas/io/common.py\u001b[0m in \u001b[0;36mget_handle\u001b[0;34m(path_or_buf, mode, encoding, compression, memory_map, is_text, errors, storage_options)\u001b[0m\n\u001b[1;32m    871\u001b[0m         \u001b[0;32mif\u001b[0m \u001b[0mioargs\u001b[0m\u001b[0;34m.\u001b[0m\u001b[0mencoding\u001b[0m \u001b[0;32mand\u001b[0m \u001b[0;34m\"b\"\u001b[0m \u001b[0;32mnot\u001b[0m \u001b[0;32min\u001b[0m \u001b[0mioargs\u001b[0m\u001b[0;34m.\u001b[0m\u001b[0mmode\u001b[0m\u001b[0;34m:\u001b[0m\u001b[0;34m\u001b[0m\u001b[0;34m\u001b[0m\u001b[0m\n\u001b[1;32m    872\u001b[0m             \u001b[0;31m# Encoding\u001b[0m\u001b[0;34m\u001b[0m\u001b[0;34m\u001b[0m\u001b[0m\n\u001b[0;32m--> 873\u001b[0;31m             handle = open(\n\u001b[0m\u001b[1;32m    874\u001b[0m                 \u001b[0mhandle\u001b[0m\u001b[0;34m,\u001b[0m\u001b[0;34m\u001b[0m\u001b[0;34m\u001b[0m\u001b[0m\n\u001b[1;32m    875\u001b[0m                 \u001b[0mioargs\u001b[0m\u001b[0;34m.\u001b[0m\u001b[0mmode\u001b[0m\u001b[0;34m,\u001b[0m\u001b[0;34m\u001b[0m\u001b[0;34m\u001b[0m\u001b[0m\n",
            "\u001b[0;31mFileNotFoundError\u001b[0m: [Errno 2] No such file or directory: '/kaggle/input/ford-car-price-prediction/ford.csv'"
          ]
        }
      ],
      "execution_count": 6
    },
    {
      "cell_type": "code",
      "source": [
        "df.shape\n",
        "df.head"
      ],
      "metadata": {
        "trusted": true,
        "id": "8za9ybnu0ocX",
        "outputId": "175d10ca-ce09-4897-e87d-05d9f6fc9a4c",
        "colab": {
          "base_uri": "https://localhost:8080/",
          "height": 158
        }
      },
      "outputs": [
        {
          "output_type": "error",
          "ename": "NameError",
          "evalue": "name 'df' is not defined",
          "traceback": [
            "\u001b[0;31m---------------------------------------------------------------------------\u001b[0m",
            "\u001b[0;31mNameError\u001b[0m                                 Traceback (most recent call last)",
            "\u001b[0;32m/tmp/ipython-input-5-219546369.py\u001b[0m in \u001b[0;36m<cell line: 0>\u001b[0;34m()\u001b[0m\n\u001b[0;32m----> 1\u001b[0;31m \u001b[0mdf\u001b[0m\u001b[0;34m.\u001b[0m\u001b[0mshape\u001b[0m\u001b[0;34m\u001b[0m\u001b[0;34m\u001b[0m\u001b[0m\n\u001b[0m\u001b[1;32m      2\u001b[0m \u001b[0mdf\u001b[0m\u001b[0;34m.\u001b[0m\u001b[0mhead\u001b[0m\u001b[0;34m\u001b[0m\u001b[0;34m\u001b[0m\u001b[0m\n",
            "\u001b[0;31mNameError\u001b[0m: name 'df' is not defined"
          ]
        }
      ],
      "execution_count": 5
    },
    {
      "cell_type": "code",
      "source": [
        "df.info()"
      ],
      "metadata": {
        "trusted": true,
        "id": "q4JyYWoK0ocX"
      },
      "outputs": [],
      "execution_count": null
    },
    {
      "cell_type": "code",
      "source": [
        "df.describe()"
      ],
      "metadata": {
        "trusted": true,
        "id": "PT0gJ0BI0ocX"
      },
      "outputs": [],
      "execution_count": null
    },
    {
      "cell_type": "code",
      "source": [
        "df.isnull().sum()"
      ],
      "metadata": {
        "trusted": true,
        "id": "z5ZaWJVy0ocX"
      },
      "outputs": [],
      "execution_count": null
    },
    {
      "cell_type": "code",
      "source": [
        "#eda\n",
        "sns.histplot(df['price'],bins=50,kde=True)"
      ],
      "metadata": {
        "trusted": true,
        "id": "zEKu9mVM0ocX"
      },
      "outputs": [],
      "execution_count": null
    },
    {
      "cell_type": "code",
      "source": [
        "sns.heatmap(df.corr(numeric_only=True),annot=True)"
      ],
      "metadata": {
        "trusted": true,
        "id": "AAc_a5do0ocY"
      },
      "outputs": [],
      "execution_count": null
    },
    {
      "cell_type": "code",
      "source": [
        "sns.boxplot(data=df,x='year',y='price')\n",
        "plt.xticks(rotation = 90)"
      ],
      "metadata": {
        "trusted": true,
        "id": "saBSE54F0ocY"
      },
      "outputs": [],
      "execution_count": null
    },
    {
      "cell_type": "code",
      "source": [
        "sns.scatterplot(data=df,x='mileage',y='price')\n"
      ],
      "metadata": {
        "trusted": true,
        "id": "QPynTSTu0ocY"
      },
      "outputs": [],
      "execution_count": null
    },
    {
      "cell_type": "code",
      "source": [
        "sns.boxplot(data=df,x='engineSize',y='price')\n",
        "plt.xticks(rotation = 90)"
      ],
      "metadata": {
        "trusted": true,
        "id": "JRyX6chN0ocY"
      },
      "outputs": [],
      "execution_count": null
    },
    {
      "cell_type": "code",
      "source": [
        "df.columns"
      ],
      "metadata": {
        "trusted": true,
        "id": "pF-3mWJy0ocY"
      },
      "outputs": [],
      "execution_count": null
    },
    {
      "cell_type": "code",
      "source": [
        "sns.boxplot(data=df,x='transmission',y='price')"
      ],
      "metadata": {
        "trusted": true,
        "id": "CJYOFz3N0ocY"
      },
      "outputs": [],
      "execution_count": null
    },
    {
      "cell_type": "code",
      "source": [
        "sns.boxplot(data=df,x='fuelType',y='price')"
      ],
      "metadata": {
        "trusted": true,
        "id": "VQNaonNz0ocY"
      },
      "outputs": [],
      "execution_count": null
    },
    {
      "cell_type": "code",
      "source": [
        "sns.boxplot(x=df['model'],y=df['price'])\n",
        "plt.xticks(rotation=90)"
      ],
      "metadata": {
        "trusted": true,
        "id": "ehTXh9rU0ocY"
      },
      "outputs": [],
      "execution_count": null
    },
    {
      "cell_type": "code",
      "source": [
        "sns.boxplot(x=df['mpg'],y=df['price'])"
      ],
      "metadata": {
        "trusted": true,
        "id": "M_wclEHT0ocZ"
      },
      "outputs": [],
      "execution_count": null
    },
    {
      "cell_type": "code",
      "source": [
        "x=df.drop(columns=['price'],axis=1)\n",
        "y=df['price']"
      ],
      "metadata": {
        "trusted": true,
        "execution": {
          "iopub.status.busy": "2025-07-30T08:36:42.97391Z",
          "iopub.execute_input": "2025-07-30T08:36:42.974263Z",
          "iopub.status.idle": "2025-07-30T08:36:42.981474Z",
          "shell.execute_reply.started": "2025-07-30T08:36:42.974239Z",
          "shell.execute_reply": "2025-07-30T08:36:42.980406Z"
        },
        "id": "3C3-GNux0ocZ"
      },
      "outputs": [],
      "execution_count": null
    },
    {
      "cell_type": "code",
      "source": [
        "x"
      ],
      "metadata": {
        "trusted": true,
        "execution": {
          "iopub.status.busy": "2025-07-30T08:36:52.129215Z",
          "iopub.execute_input": "2025-07-30T08:36:52.129589Z",
          "iopub.status.idle": "2025-07-30T08:36:52.145817Z",
          "shell.execute_reply.started": "2025-07-30T08:36:52.129565Z",
          "shell.execute_reply": "2025-07-30T08:36:52.144737Z"
        },
        "id": "jbEbAyzY0ocZ"
      },
      "outputs": [],
      "execution_count": null
    },
    {
      "cell_type": "code",
      "source": [
        " x_one_encode=pd.get_dummies(x,columns=['model','transmission','fuelType'],drop_first = True)"
      ],
      "metadata": {
        "trusted": true,
        "execution": {
          "iopub.status.busy": "2025-07-30T08:42:34.783298Z",
          "iopub.execute_input": "2025-07-30T08:42:34.783661Z",
          "iopub.status.idle": "2025-07-30T08:42:34.803013Z",
          "shell.execute_reply.started": "2025-07-30T08:42:34.783638Z",
          "shell.execute_reply": "2025-07-30T08:42:34.801764Z"
        },
        "id": "Fx4281Ai0ocZ"
      },
      "outputs": [],
      "execution_count": null
    },
    {
      "cell_type": "code",
      "source": [
        "x_one_encode=x_one_encode.astype(int)"
      ],
      "metadata": {
        "trusted": true,
        "execution": {
          "iopub.status.busy": "2025-07-30T08:48:19.10212Z",
          "iopub.execute_input": "2025-07-30T08:48:19.103028Z",
          "iopub.status.idle": "2025-07-30T08:48:19.112481Z",
          "shell.execute_reply.started": "2025-07-30T08:48:19.102978Z",
          "shell.execute_reply": "2025-07-30T08:48:19.111431Z"
        },
        "id": "Sfs9Zqf-0oca"
      },
      "outputs": [],
      "execution_count": null
    },
    {
      "cell_type": "code",
      "source": [
        "x_one_encode"
      ],
      "metadata": {
        "trusted": true,
        "execution": {
          "iopub.status.busy": "2025-07-30T08:48:23.116388Z",
          "iopub.execute_input": "2025-07-30T08:48:23.116696Z",
          "iopub.status.idle": "2025-07-30T08:48:23.157212Z",
          "shell.execute_reply.started": "2025-07-30T08:48:23.116675Z",
          "shell.execute_reply": "2025-07-30T08:48:23.156395Z"
        },
        "id": "vhJW7Sns0oca"
      },
      "outputs": [],
      "execution_count": null
    },
    {
      "cell_type": "code",
      "source": [
        "from sklearn.preprocessing import LabelEncoder\n",
        "\n",
        "columns = ['model', 'transmission', 'fuelType']\n",
        "xlabel = x.copy()  # do not modify x directly\n",
        "\n",
        "for col in columns:\n",
        "    print(f\"Before encoding {col}: {xlabel[col].unique()}\")\n",
        "    le = LabelEncoder()\n",
        "    xlabel[col] = le.fit_transform(xlabel[col])\n",
        "    print(f\"After encoding {col}: {xlabel[col].unique()}\")\n"
      ],
      "metadata": {
        "trusted": true,
        "execution": {
          "iopub.status.busy": "2025-07-30T09:04:24.762246Z",
          "iopub.execute_input": "2025-07-30T09:04:24.762624Z",
          "iopub.status.idle": "2025-07-30T09:04:24.777213Z",
          "shell.execute_reply.started": "2025-07-30T09:04:24.762594Z",
          "shell.execute_reply": "2025-07-30T09:04:24.776162Z"
        },
        "id": "5SAlyRtJ0oca"
      },
      "outputs": [],
      "execution_count": null
    },
    {
      "cell_type": "code",
      "source": [
        "xlabel\n",
        "\n"
      ],
      "metadata": {
        "trusted": true,
        "execution": {
          "iopub.status.busy": "2025-07-30T09:04:32.127535Z",
          "iopub.execute_input": "2025-07-30T09:04:32.127883Z",
          "iopub.status.idle": "2025-07-30T09:04:32.143003Z",
          "shell.execute_reply.started": "2025-07-30T09:04:32.127857Z",
          "shell.execute_reply": "2025-07-30T09:04:32.141615Z"
        },
        "id": "Ux-awctz0oca"
      },
      "outputs": [],
      "execution_count": null
    },
    {
      "cell_type": "code",
      "source": [
        "from sklearn.preprocessing import StandardScaler"
      ],
      "metadata": {
        "trusted": true,
        "execution": {
          "iopub.status.busy": "2025-07-30T09:07:26.133908Z",
          "iopub.execute_input": "2025-07-30T09:07:26.134279Z",
          "iopub.status.idle": "2025-07-30T09:07:26.139552Z",
          "shell.execute_reply.started": "2025-07-30T09:07:26.134254Z",
          "shell.execute_reply": "2025-07-30T09:07:26.138422Z"
        },
        "id": "Fd0foRj60oca"
      },
      "outputs": [],
      "execution_count": null
    },
    {
      "cell_type": "code",
      "source": [
        "numerical_cols=['year','mileage','tax','mpg','enginesize']\n",
        "scaler=StandardScaler()\n",
        "x_one_encode[numerical_cols]=scaler.fit_transform(x_one_encode[numerical_cols])"
      ],
      "metadata": {
        "trusted": true,
        "execution": {
          "iopub.status.busy": "2025-07-30T09:10:57.564471Z",
          "iopub.status.idle": "2025-07-30T09:10:57.564799Z",
          "shell.execute_reply.started": "2025-07-30T09:10:57.564652Z",
          "shell.execute_reply": "2025-07-30T09:10:57.564668Z"
        },
        "id": "GMzx4dLW0oca"
      },
      "outputs": [],
      "execution_count": null
    },
    {
      "cell_type": "code",
      "source": [
        "import pandas as pd\n",
        "from sklearn.preprocessing import StandardScaler\n",
        "\n",
        "# Step 1: Load data (assuming 'x' is your original DataFrame)\n",
        "# x = pd.read_csv(\"your_file.csv\") # if needed\n",
        "\n",
        "# Step 2: One-hot encode\n",
        "columns_to_encode = ['model', 'transmission', 'fuelType']\n",
        "x_encoded = pd.get_dummies(x, columns=columns_to_encode, drop_first=False)\n",
        "\n",
        "# Step 3: Normalize numerical features\n",
        "scaler = StandardScaler()\n",
        "x_scaled = pd.DataFrame(scaler.fit_transform(x_encoded), columns=x_encoded.columns)\n",
        "\n",
        "# Now x_scaled is ready for ML\n"
      ],
      "metadata": {
        "trusted": true,
        "execution": {
          "iopub.status.busy": "2025-07-30T09:23:52.763483Z",
          "iopub.execute_input": "2025-07-30T09:23:52.763856Z",
          "iopub.status.idle": "2025-07-30T09:23:52.803925Z",
          "shell.execute_reply.started": "2025-07-30T09:23:52.763833Z",
          "shell.execute_reply": "2025-07-30T09:23:52.802983Z"
        },
        "id": "ugxgzjTC0oca"
      },
      "outputs": [],
      "execution_count": null
    },
    {
      "cell_type": "code",
      "source": [
        "import pandas as pd\n",
        "from sklearn.preprocessing import StandardScaler\n",
        "\n",
        "# Load your original dataset\n",
        "# x = pd.read_csv(\"your_file.csv\")\n",
        "\n",
        "# Step 1: One-hot encode categorical columns\n",
        "cat_cols = ['model', 'transmission', 'fuelType']\n",
        "x_encoded = pd.get_dummies(x, columns=cat_cols, drop_first=False)\n",
        "\n",
        "# Step 2: Normalize only numerical columns\n",
        "num_cols = ['year', 'mileage', 'tax', 'mpg', 'engineSize']\n",
        "scaler = StandardScaler()\n",
        "x_encoded[num_cols] = scaler.fit_transform(x_encoded[num_cols])\n"
      ],
      "metadata": {
        "trusted": true,
        "execution": {
          "iopub.status.busy": "2025-07-30T09:27:04.744322Z",
          "iopub.execute_input": "2025-07-30T09:27:04.744772Z",
          "iopub.status.idle": "2025-07-30T09:27:04.768878Z",
          "shell.execute_reply.started": "2025-07-30T09:27:04.744747Z",
          "shell.execute_reply": "2025-07-30T09:27:04.76754Z"
        },
        "id": "eo6ZjXGo0ocb"
      },
      "outputs": [],
      "execution_count": null
    },
    {
      "cell_type": "code",
      "source": [],
      "metadata": {
        "trusted": true,
        "id": "YXsggoE10ocb"
      },
      "outputs": [],
      "execution_count": null
    },
    {
      "cell_type": "raw",
      "source": [],
      "metadata": {
        "id": "qwgAt_Zx0ocb"
      }
    },
    {
      "cell_type": "code",
      "source": [],
      "metadata": {
        "trusted": true,
        "id": "8H5F8d6w0ocb"
      },
      "outputs": [],
      "execution_count": null
    },
    {
      "cell_type": "code",
      "source": [
        "x_encoded"
      ],
      "metadata": {
        "trusted": true,
        "execution": {
          "iopub.status.busy": "2025-07-30T09:41:10.838752Z",
          "iopub.execute_input": "2025-07-30T09:41:10.839033Z",
          "iopub.status.idle": "2025-07-30T09:41:10.855544Z",
          "shell.execute_reply.started": "2025-07-30T09:41:10.839014Z",
          "shell.execute_reply": "2025-07-30T09:41:10.85428Z"
        },
        "id": "KsqNnstv0ocb"
      },
      "outputs": [],
      "execution_count": null
    },
    {
      "cell_type": "code",
      "source": [
        "from sklearn.preprocessing import LabelEncoder, StandardScaler\n",
        "\n",
        "# Make a copy of your dataset to avoid modifying the original\n",
        "xlabel = x.copy()\n",
        "\n",
        "# Step 1: Label encode categorical columns\n",
        "cat_cols = ['model', 'transmission', 'fuelType']\n",
        "for col in cat_cols:\n",
        "    le = LabelEncoder()\n",
        "    xlabel[col] = le.fit_transform(xlabel[col])\n",
        "\n",
        "# Step 2: Standard scale all selected columns\n",
        "cols_to_scale = ['model', 'year', 'transmission', 'mileage', 'fuelType', 'tax', 'mpg', 'engineSize']\n",
        "scaler = StandardScaler()\n",
        "xlabel[cols_to_scale] = scaler.fit_transform(xlabel[cols_to_scale])\n"
      ],
      "metadata": {
        "trusted": true,
        "execution": {
          "iopub.status.busy": "2025-07-30T09:43:12.634099Z",
          "iopub.execute_input": "2025-07-30T09:43:12.63522Z",
          "iopub.status.idle": "2025-07-30T09:43:12.66472Z",
          "shell.execute_reply.started": "2025-07-30T09:43:12.635189Z",
          "shell.execute_reply": "2025-07-30T09:43:12.663678Z"
        },
        "id": "elGGEKh-0ocb"
      },
      "outputs": [],
      "execution_count": null
    },
    {
      "cell_type": "code",
      "source": [
        "from sklearn.model_selection import train_test_split\n",
        "from sklearn.linear_model import LinearRegression\n",
        "from sklearn.metrics import mean_absolute_error,mean_squared_error,r2_score"
      ],
      "metadata": {
        "trusted": true,
        "execution": {
          "iopub.status.busy": "2025-07-30T09:48:52.067885Z",
          "iopub.execute_input": "2025-07-30T09:48:52.068189Z",
          "iopub.status.idle": "2025-07-30T09:48:52.073246Z",
          "shell.execute_reply.started": "2025-07-30T09:48:52.068164Z",
          "shell.execute_reply": "2025-07-30T09:48:52.072216Z"
        },
        "id": "xHBkAvEN0occ"
      },
      "outputs": [],
      "execution_count": null
    },
    {
      "cell_type": "code",
      "source": [
        "x_train,x_test,y_train,y_test = train_test_split(x_one_encode,y,test_size=0.33,random_state=42)"
      ],
      "metadata": {
        "trusted": true,
        "execution": {
          "iopub.status.busy": "2025-07-30T09:51:52.958568Z",
          "iopub.execute_input": "2025-07-30T09:51:52.959648Z",
          "iopub.status.idle": "2025-07-30T09:51:52.977877Z",
          "shell.execute_reply.started": "2025-07-30T09:51:52.959607Z",
          "shell.execute_reply": "2025-07-30T09:51:52.976813Z"
        },
        "id": "XP--MKoP0occ"
      },
      "outputs": [],
      "execution_count": null
    },
    {
      "cell_type": "code",
      "source": [
        "model=LinearRegression()\n",
        "model.fit(x_train,y_train)"
      ],
      "metadata": {
        "trusted": true,
        "execution": {
          "iopub.status.busy": "2025-07-30T10:02:30.126142Z",
          "iopub.execute_input": "2025-07-30T10:02:30.126535Z",
          "iopub.status.idle": "2025-07-30T10:02:30.1421Z",
          "shell.execute_reply.started": "2025-07-30T10:02:30.12651Z",
          "shell.execute_reply": "2025-07-30T10:02:30.14108Z"
        },
        "id": "xZ5G1BMo0occ"
      },
      "outputs": [],
      "execution_count": null
    },
    {
      "cell_type": "code",
      "source": [
        "y_pred=model.predict(x_test)"
      ],
      "metadata": {
        "trusted": true,
        "execution": {
          "iopub.status.busy": "2025-07-30T09:54:25.31773Z",
          "iopub.execute_input": "2025-07-30T09:54:25.318076Z",
          "iopub.status.idle": "2025-07-30T09:54:25.334914Z",
          "shell.execute_reply.started": "2025-07-30T09:54:25.318056Z",
          "shell.execute_reply": "2025-07-30T09:54:25.333717Z"
        },
        "id": "1Xo7OtGj0occ"
      },
      "outputs": [],
      "execution_count": null
    },
    {
      "cell_type": "code",
      "source": [
        "y_pred"
      ],
      "metadata": {
        "trusted": true,
        "execution": {
          "iopub.status.busy": "2025-07-30T09:54:43.289702Z",
          "iopub.execute_input": "2025-07-30T09:54:43.290011Z",
          "iopub.status.idle": "2025-07-30T09:54:43.296911Z",
          "shell.execute_reply.started": "2025-07-30T09:54:43.28999Z",
          "shell.execute_reply": "2025-07-30T09:54:43.296072Z"
        },
        "id": "Du_v6PkK0ocd"
      },
      "outputs": [],
      "execution_count": null
    },
    {
      "cell_type": "code",
      "source": [
        "from sklearn.metrics import r2_score\n",
        "r2 = r2_score(y_test,y_pred)\n",
        "r2"
      ],
      "metadata": {
        "trusted": true,
        "execution": {
          "iopub.status.busy": "2025-07-30T09:59:24.165197Z",
          "iopub.execute_input": "2025-07-30T09:59:24.166492Z",
          "iopub.status.idle": "2025-07-30T09:59:24.175651Z",
          "shell.execute_reply.started": "2025-07-30T09:59:24.166447Z",
          "shell.execute_reply": "2025-07-30T09:59:24.174629Z"
        },
        "id": "I5HckrAZ0ocg"
      },
      "outputs": [],
      "execution_count": null
    },
    {
      "cell_type": "code",
      "source": [
        "x_train,x_test,y_train,y_test = train_test_split(xlabel,y,test_size=0.33,random_state=42)"
      ],
      "metadata": {
        "trusted": true,
        "execution": {
          "iopub.status.busy": "2025-07-30T10:01:02.113119Z",
          "iopub.execute_input": "2025-07-30T10:01:02.113445Z",
          "iopub.status.idle": "2025-07-30T10:01:02.124709Z",
          "shell.execute_reply.started": "2025-07-30T10:01:02.113424Z",
          "shell.execute_reply": "2025-07-30T10:01:02.123741Z"
        },
        "id": "BCyg7CwV0ocg"
      },
      "outputs": [],
      "execution_count": null
    },
    {
      "cell_type": "code",
      "source": [
        "model2=LinearRegression()\n",
        "model2.fit(x_train,y_train)"
      ],
      "metadata": {
        "trusted": true,
        "execution": {
          "iopub.status.busy": "2025-07-30T10:06:42.44319Z",
          "iopub.execute_input": "2025-07-30T10:06:42.443567Z",
          "iopub.status.idle": "2025-07-30T10:06:42.460627Z",
          "shell.execute_reply.started": "2025-07-30T10:06:42.443543Z",
          "shell.execute_reply": "2025-07-30T10:06:42.459581Z"
        },
        "id": "PyhvBKRl0ocg"
      },
      "outputs": [],
      "execution_count": null
    },
    {
      "cell_type": "code",
      "source": [
        "y_pred = model2.predict(x_test)"
      ],
      "metadata": {
        "trusted": true,
        "id": "73yRYm9d0ocg"
      },
      "outputs": [],
      "execution_count": null
    },
    {
      "cell_type": "code",
      "source": [
        "y_pred"
      ],
      "metadata": {
        "trusted": true,
        "execution": {
          "iopub.status.busy": "2025-07-30T10:08:21.164735Z",
          "iopub.execute_input": "2025-07-30T10:08:21.165034Z",
          "iopub.status.idle": "2025-07-30T10:08:21.171566Z",
          "shell.execute_reply.started": "2025-07-30T10:08:21.165015Z",
          "shell.execute_reply": "2025-07-30T10:08:21.170618Z"
        },
        "id": "pTDyW2Fc0ocg"
      },
      "outputs": [],
      "execution_count": null
    },
    {
      "cell_type": "code",
      "source": [
        "y_test"
      ],
      "metadata": {
        "trusted": true,
        "execution": {
          "iopub.status.busy": "2025-07-30T10:08:48.843835Z",
          "iopub.execute_input": "2025-07-30T10:08:48.844189Z",
          "iopub.status.idle": "2025-07-30T10:08:48.85283Z",
          "shell.execute_reply.started": "2025-07-30T10:08:48.844166Z",
          "shell.execute_reply": "2025-07-30T10:08:48.851851Z"
        },
        "id": "_IUXzEhr0ocg"
      },
      "outputs": [],
      "execution_count": null
    },
    {
      "cell_type": "code",
      "source": [
        "from sklearn.metrics import r2_score\n",
        "r2 = r2_score(y_test,y_pred)\n",
        "r2"
      ],
      "metadata": {
        "trusted": true,
        "execution": {
          "iopub.status.busy": "2025-07-30T10:09:12.072237Z",
          "iopub.execute_input": "2025-07-30T10:09:12.072609Z",
          "iopub.status.idle": "2025-07-30T10:09:12.082686Z",
          "shell.execute_reply.started": "2025-07-30T10:09:12.072584Z",
          "shell.execute_reply": "2025-07-30T10:09:12.081403Z"
        },
        "id": "DX8euh1w0och"
      },
      "outputs": [],
      "execution_count": null
    }
  ]
}